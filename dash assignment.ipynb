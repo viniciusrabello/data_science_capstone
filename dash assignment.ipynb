{
 "cells": [
  {
   "cell_type": "code",
   "execution_count": 1,
   "id": "0dda55b4",
   "metadata": {},
   "outputs": [],
   "source": [
    "import pandas as pd\n",
    "import dash\n",
    "from dash import html\n",
    "from dash import dcc\n",
    "from dash.dependencies import Input, Output\n",
    "import plotly.express as px\n",
    "import numpy as np"
   ]
  },
  {
   "cell_type": "code",
   "execution_count": 2,
   "id": "ba4ed491",
   "metadata": {},
   "outputs": [],
   "source": [
    "df=pd.read_csv('spacex_launch_dash.csv')\n",
    "max_payload = df['Payload Mass (kg)'].max()\n",
    "min_payload = df['Payload Mass (kg)'].min()"
   ]
  },
  {
   "cell_type": "code",
   "execution_count": 3,
   "id": "9ed3bcbb",
   "metadata": {},
   "outputs": [],
   "source": [
    "app=dash.Dash(__name__)"
   ]
  },
  {
   "cell_type": "code",
   "execution_count": 4,
   "id": "d1fe4d6e",
   "metadata": {},
   "outputs": [],
   "source": [
    "app.layout=html.Div(children=[\n",
    "    \n",
    "                    html.H1('SpaceX Launch Records Dashboard',\n",
    "                    style={'textAlign': 'center', 'color': '#503D36',\n",
    "                    'font-size': 40}),\n",
    "    \n",
    "                    dcc.Dropdown(id='site-dropdown',\n",
    "                    options=[{'label':'All','value':'all'},\n",
    "                             {'label':'VAFB SLC-4E','value':'VAFB SLC-4E'},\n",
    "                             {'label':'KSC LC-39A','value':'KSC LC-39A'},\n",
    "                             {'label':'CCAFS LC-40','value':'CCAFS LC-40'},\n",
    "                             {'label':'CCAFS SLC-40','value':'CCAFS SLC-40'}],\n",
    "                    value='all',\n",
    "                    placeholder='Select a Launch Site here',\n",
    "                    searchable=True),\n",
    "    \n",
    "                    html.Br(),\n",
    "    \n",
    "                    dcc.Graph(id='success-pie-chart'),\n",
    "    \n",
    "                    html.Br(),\n",
    "    \n",
    "                    html.P(\"Payload range (Kg):\"),\n",
    "    \n",
    "                    dcc.RangeSlider(id='payload-slider',\n",
    "                                    min=0, max=10000, step=500,\n",
    "                                    marks={str(x):x for x in np.arange(0,10001,500)},\n",
    "                                    value=[min_payload,max_payload]),\n",
    "    \n",
    "                    dcc.Graph(id='success-payload-scatter-chart')])\n",
    "\n",
    "@app.callback([Output(component_id='success-pie-chart', component_property='figure'),\n",
    "               Output(component_id='success-payload-scatter-chart',component_property='figure')],\n",
    "              [Input(component_id='site-dropdown', component_property='value'),\n",
    "               Input(component_id='payload-slider', component_property='value')])\n",
    "\n",
    "def get_charts(entered_site,payload_slider):\n",
    "    \n",
    "    min_,max_=payload_slider\n",
    "    dff = df.loc[(df['Payload Mass (kg)']>=min_) &(df['Payload Mass (kg)']<=max_)]\n",
    "    \n",
    "    if entered_site == 'all':\n",
    "        \n",
    "        pie_data=dff[['Launch Site','class']]\n",
    "        pie_data=pie_data.loc[dff['class']==1]\n",
    "        pie_data=pie_data.groupby(['Launch Site']).sum().apply(lambda x: x/dff.count()[0])\n",
    "        pie_data=pie_data.reset_index()\n",
    "        pie = px.pie(pie_data, values='class', \n",
    "            names='Launch Site',\n",
    "            title='Launches for all sites')\n",
    "        \n",
    "        scatter_data=dff[['Payload Mass (kg)','Booster Version Category','class']]\n",
    "        scatter_data=scatter_data.loc[(scatter_data['Payload Mass (kg)']>=min_) &\n",
    "                                      (scatter_data['Payload Mass (kg)']<=max_)]\n",
    "        scatter =  px.scatter(scatter_data,\n",
    "            x='Payload Mass (kg)',\n",
    "            y='class',\n",
    "            color='Booster Version Category',\n",
    "            title='Correlation between Payload and Success for all sites')\n",
    "        \n",
    "        return pie,scatter\n",
    "    else:\n",
    "        pie_data=dff['class'].loc[df['Launch Site']==entered_site].value_counts() \n",
    "        pie = px.pie(pie_data, values='class', \n",
    "            names=['Failure','Success'],\n",
    "            title='Launches for site '+entered_site)\n",
    "        \n",
    "        scatter_data=dff.loc[df['Launch Site']==entered_site]\n",
    "        scatter_data=scatter_data[['Payload Mass (kg)','Booster Version Category','class']]\n",
    "        \n",
    "        #scatter_data=scatter_data.loc[(scatter_data['Payload Mass (kg)']>=min_) &\n",
    "        #                              (scatter_data['Payload Mass (kg)']<=max_)]\n",
    "        \n",
    "        scatter =  px.scatter(scatter_data,\n",
    "            x='Payload Mass (kg)',\n",
    "            y='class',\n",
    "            color='Booster Version Category',\n",
    "            title='Correlation between Payload and Success for site '+entered_site)\n",
    "        return pie,scatter"
   ]
  },
  {
   "cell_type": "code",
   "execution_count": 5,
   "id": "4bd88316",
   "metadata": {},
   "outputs": [
    {
     "name": "stdout",
     "output_type": "stream",
     "text": [
      "Dash is running on http://127.0.0.1:8050/\n",
      "\n",
      " * Serving Flask app \"__main__\" (lazy loading)\n",
      " * Environment: production\n",
      "\u001b[31m   WARNING: This is a development server. Do not use it in a production deployment.\u001b[0m\n",
      "\u001b[2m   Use a production WSGI server instead.\u001b[0m\n",
      " * Debug mode: off\n"
     ]
    },
    {
     "name": "stderr",
     "output_type": "stream",
     "text": [
      " * Running on http://127.0.0.1:8050/ (Press CTRL+C to quit)\n",
      "127.0.0.1 - - [16/Mar/2023 13:33:44] \"GET / HTTP/1.1\" 200 -\n",
      "127.0.0.1 - - [16/Mar/2023 13:33:44] \"GET /_dash-dependencies HTTP/1.1\" 200 -\n",
      "127.0.0.1 - - [16/Mar/2023 13:33:44] \"GET /_dash-layout HTTP/1.1\" 200 -\n",
      "127.0.0.1 - - [16/Mar/2023 13:33:44] \"GET /_dash-component-suites/dash/dcc/async-dropdown.js HTTP/1.1\" 200 -\n",
      "127.0.0.1 - - [16/Mar/2023 13:33:44] \"GET /_dash-component-suites/dash/dcc/async-graph.js HTTP/1.1\" 200 -\n",
      "127.0.0.1 - - [16/Mar/2023 13:33:44] \"GET /_dash-component-suites/dash/dcc/async-slider.js HTTP/1.1\" 200 -\n",
      "127.0.0.1 - - [16/Mar/2023 13:33:44] \"GET /_dash-component-suites/dash/dcc/async-plotlyjs.js HTTP/1.1\" 200 -\n",
      "127.0.0.1 - - [16/Mar/2023 13:33:46] \"POST /_dash-update-component HTTP/1.1\" 200 -\n",
      "127.0.0.1 - - [16/Mar/2023 13:33:49] \"POST /_dash-update-component HTTP/1.1\" 200 -\n",
      "127.0.0.1 - - [16/Mar/2023 13:34:00] \"POST /_dash-update-component HTTP/1.1\" 200 -\n",
      "127.0.0.1 - - [16/Mar/2023 13:34:03] \"POST /_dash-update-component HTTP/1.1\" 200 -\n",
      "127.0.0.1 - - [16/Mar/2023 13:34:07] \"POST /_dash-update-component HTTP/1.1\" 200 -\n",
      "127.0.0.1 - - [16/Mar/2023 13:34:12] \"POST /_dash-update-component HTTP/1.1\" 200 -\n",
      "127.0.0.1 - - [16/Mar/2023 13:34:18] \"POST /_dash-update-component HTTP/1.1\" 200 -\n",
      "127.0.0.1 - - [16/Mar/2023 13:34:28] \"POST /_dash-update-component HTTP/1.1\" 200 -\n",
      "127.0.0.1 - - [16/Mar/2023 13:34:31] \"POST /_dash-update-component HTTP/1.1\" 200 -\n",
      "127.0.0.1 - - [16/Mar/2023 13:34:33] \"POST /_dash-update-component HTTP/1.1\" 200 -\n",
      "127.0.0.1 - - [16/Mar/2023 13:34:50] \"POST /_dash-update-component HTTP/1.1\" 200 -\n",
      "127.0.0.1 - - [16/Mar/2023 13:35:06] \"POST /_dash-update-component HTTP/1.1\" 200 -\n",
      "127.0.0.1 - - [16/Mar/2023 13:35:11] \"POST /_dash-update-component HTTP/1.1\" 200 -\n",
      "127.0.0.1 - - [16/Mar/2023 13:35:44] \"POST /_dash-update-component HTTP/1.1\" 200 -\n",
      "127.0.0.1 - - [16/Mar/2023 13:35:47] \"POST /_dash-update-component HTTP/1.1\" 200 -\n",
      "127.0.0.1 - - [16/Mar/2023 13:35:51] \"POST /_dash-update-component HTTP/1.1\" 200 -\n",
      "127.0.0.1 - - [16/Mar/2023 13:35:56] \"POST /_dash-update-component HTTP/1.1\" 200 -\n",
      "127.0.0.1 - - [16/Mar/2023 13:36:00] \"POST /_dash-update-component HTTP/1.1\" 200 -\n",
      "127.0.0.1 - - [16/Mar/2023 13:36:54] \"POST /_dash-update-component HTTP/1.1\" 200 -\n",
      "127.0.0.1 - - [16/Mar/2023 13:36:56] \"POST /_dash-update-component HTTP/1.1\" 200 -\n",
      "127.0.0.1 - - [16/Mar/2023 13:37:08] \"POST /_dash-update-component HTTP/1.1\" 200 -\n",
      "127.0.0.1 - - [16/Mar/2023 13:37:11] \"POST /_dash-update-component HTTP/1.1\" 200 -\n",
      "127.0.0.1 - - [16/Mar/2023 13:37:15] \"POST /_dash-update-component HTTP/1.1\" 200 -\n",
      "127.0.0.1 - - [16/Mar/2023 13:37:17] \"POST /_dash-update-component HTTP/1.1\" 200 -\n",
      "127.0.0.1 - - [16/Mar/2023 13:37:21] \"POST /_dash-update-component HTTP/1.1\" 200 -\n",
      "127.0.0.1 - - [16/Mar/2023 13:37:31] \"POST /_dash-update-component HTTP/1.1\" 200 -\n",
      "127.0.0.1 - - [16/Mar/2023 13:37:47] \"POST /_dash-update-component HTTP/1.1\" 200 -\n",
      "127.0.0.1 - - [16/Mar/2023 13:37:53] \"POST /_dash-update-component HTTP/1.1\" 200 -\n",
      "127.0.0.1 - - [16/Mar/2023 13:37:56] \"POST /_dash-update-component HTTP/1.1\" 200 -\n",
      "127.0.0.1 - - [16/Mar/2023 13:38:00] \"POST /_dash-update-component HTTP/1.1\" 200 -\n",
      "127.0.0.1 - - [16/Mar/2023 13:38:02] \"POST /_dash-update-component HTTP/1.1\" 200 -\n",
      "127.0.0.1 - - [16/Mar/2023 13:38:10] \"POST /_dash-update-component HTTP/1.1\" 200 -\n",
      "127.0.0.1 - - [16/Mar/2023 13:38:12] \"POST /_dash-update-component HTTP/1.1\" 200 -\n",
      "127.0.0.1 - - [16/Mar/2023 13:38:16] \"POST /_dash-update-component HTTP/1.1\" 200 -\n",
      "127.0.0.1 - - [16/Mar/2023 13:38:18] \"POST /_dash-update-component HTTP/1.1\" 200 -\n",
      "127.0.0.1 - - [16/Mar/2023 13:38:22] \"POST /_dash-update-component HTTP/1.1\" 200 -\n",
      "127.0.0.1 - - [16/Mar/2023 13:38:24] \"POST /_dash-update-component HTTP/1.1\" 200 -\n",
      "127.0.0.1 - - [16/Mar/2023 13:38:32] \"POST /_dash-update-component HTTP/1.1\" 200 -\n",
      "127.0.0.1 - - [16/Mar/2023 13:38:33] \"POST /_dash-update-component HTTP/1.1\" 200 -\n",
      "127.0.0.1 - - [16/Mar/2023 13:38:50] \"POST /_dash-update-component HTTP/1.1\" 200 -\n",
      "127.0.0.1 - - [16/Mar/2023 13:38:54] \"POST /_dash-update-component HTTP/1.1\" 200 -\n",
      "127.0.0.1 - - [16/Mar/2023 13:39:06] \"POST /_dash-update-component HTTP/1.1\" 200 -\n",
      "127.0.0.1 - - [16/Mar/2023 13:39:10] \"POST /_dash-update-component HTTP/1.1\" 200 -\n",
      "127.0.0.1 - - [16/Mar/2023 13:39:12] \"POST /_dash-update-component HTTP/1.1\" 200 -\n",
      "127.0.0.1 - - [16/Mar/2023 13:39:21] \"POST /_dash-update-component HTTP/1.1\" 200 -\n",
      "127.0.0.1 - - [16/Mar/2023 13:39:24] \"POST /_dash-update-component HTTP/1.1\" 200 -\n",
      "127.0.0.1 - - [16/Mar/2023 13:39:26] \"POST /_dash-update-component HTTP/1.1\" 200 -\n",
      "127.0.0.1 - - [16/Mar/2023 13:39:29] \"POST /_dash-update-component HTTP/1.1\" 200 -\n",
      "127.0.0.1 - - [16/Mar/2023 13:39:31] \"POST /_dash-update-component HTTP/1.1\" 200 -\n",
      "127.0.0.1 - - [16/Mar/2023 13:39:34] \"POST /_dash-update-component HTTP/1.1\" 200 -\n",
      "127.0.0.1 - - [16/Mar/2023 13:39:37] \"POST /_dash-update-component HTTP/1.1\" 200 -\n",
      "127.0.0.1 - - [16/Mar/2023 13:39:40] \"POST /_dash-update-component HTTP/1.1\" 200 -\n",
      "127.0.0.1 - - [16/Mar/2023 13:39:43] \"POST /_dash-update-component HTTP/1.1\" 200 -\n",
      "127.0.0.1 - - [16/Mar/2023 13:39:45] \"POST /_dash-update-component HTTP/1.1\" 200 -\n",
      "127.0.0.1 - - [16/Mar/2023 13:39:47] \"POST /_dash-update-component HTTP/1.1\" 200 -\n",
      "127.0.0.1 - - [16/Mar/2023 13:39:50] \"POST /_dash-update-component HTTP/1.1\" 200 -\n",
      "127.0.0.1 - - [16/Mar/2023 13:39:52] \"POST /_dash-update-component HTTP/1.1\" 200 -\n",
      "127.0.0.1 - - [16/Mar/2023 13:39:53] \"POST /_dash-update-component HTTP/1.1\" 200 -\n",
      "127.0.0.1 - - [16/Mar/2023 13:39:55] \"POST /_dash-update-component HTTP/1.1\" 200 -\n",
      "127.0.0.1 - - [16/Mar/2023 13:40:00] \"POST /_dash-update-component HTTP/1.1\" 200 -\n",
      "127.0.0.1 - - [16/Mar/2023 13:40:04] \"POST /_dash-update-component HTTP/1.1\" 200 -\n",
      "127.0.0.1 - - [16/Mar/2023 13:40:06] \"POST /_dash-update-component HTTP/1.1\" 200 -\n",
      "127.0.0.1 - - [16/Mar/2023 13:40:08] \"POST /_dash-update-component HTTP/1.1\" 200 -\n",
      "127.0.0.1 - - [16/Mar/2023 13:40:13] \"POST /_dash-update-component HTTP/1.1\" 200 -\n",
      "127.0.0.1 - - [16/Mar/2023 13:40:18] \"POST /_dash-update-component HTTP/1.1\" 200 -\n",
      "127.0.0.1 - - [16/Mar/2023 13:40:21] \"POST /_dash-update-component HTTP/1.1\" 200 -\n",
      "127.0.0.1 - - [16/Mar/2023 13:40:24] \"POST /_dash-update-component HTTP/1.1\" 200 -\n",
      "127.0.0.1 - - [16/Mar/2023 13:40:26] \"POST /_dash-update-component HTTP/1.1\" 200 -\n",
      "127.0.0.1 - - [16/Mar/2023 13:40:28] \"POST /_dash-update-component HTTP/1.1\" 200 -\n",
      "127.0.0.1 - - [16/Mar/2023 13:40:30] \"POST /_dash-update-component HTTP/1.1\" 200 -\n",
      "127.0.0.1 - - [16/Mar/2023 13:40:35] \"POST /_dash-update-component HTTP/1.1\" 200 -\n",
      "127.0.0.1 - - [16/Mar/2023 13:42:35] \"POST /_dash-update-component HTTP/1.1\" 200 -\n",
      "127.0.0.1 - - [16/Mar/2023 13:42:38] \"POST /_dash-update-component HTTP/1.1\" 200 -\n",
      "127.0.0.1 - - [16/Mar/2023 13:42:41] \"POST /_dash-update-component HTTP/1.1\" 200 -\n",
      "127.0.0.1 - - [16/Mar/2023 13:42:43] \"POST /_dash-update-component HTTP/1.1\" 200 -\n",
      "127.0.0.1 - - [16/Mar/2023 13:42:46] \"POST /_dash-update-component HTTP/1.1\" 200 -\n",
      "127.0.0.1 - - [16/Mar/2023 13:42:48] \"POST /_dash-update-component HTTP/1.1\" 200 -\n",
      "127.0.0.1 - - [16/Mar/2023 13:42:51] \"POST /_dash-update-component HTTP/1.1\" 200 -\n",
      "127.0.0.1 - - [16/Mar/2023 13:42:53] \"POST /_dash-update-component HTTP/1.1\" 200 -\n",
      "127.0.0.1 - - [16/Mar/2023 13:42:56] \"POST /_dash-update-component HTTP/1.1\" 200 -\n",
      "127.0.0.1 - - [16/Mar/2023 13:42:57] \"POST /_dash-update-component HTTP/1.1\" 200 -\n",
      "127.0.0.1 - - [16/Mar/2023 13:43:03] \"POST /_dash-update-component HTTP/1.1\" 200 -\n",
      "127.0.0.1 - - [16/Mar/2023 13:43:07] \"POST /_dash-update-component HTTP/1.1\" 200 -\n",
      "127.0.0.1 - - [16/Mar/2023 13:43:09] \"POST /_dash-update-component HTTP/1.1\" 200 -\n",
      "127.0.0.1 - - [16/Mar/2023 13:43:12] \"POST /_dash-update-component HTTP/1.1\" 200 -\n",
      "127.0.0.1 - - [16/Mar/2023 13:43:14] \"POST /_dash-update-component HTTP/1.1\" 200 -\n",
      "127.0.0.1 - - [16/Mar/2023 13:43:17] \"POST /_dash-update-component HTTP/1.1\" 200 -\n",
      "127.0.0.1 - - [16/Mar/2023 13:43:20] \"POST /_dash-update-component HTTP/1.1\" 200 -\n",
      "127.0.0.1 - - [16/Mar/2023 13:43:22] \"POST /_dash-update-component HTTP/1.1\" 200 -\n",
      "127.0.0.1 - - [16/Mar/2023 13:43:26] \"POST /_dash-update-component HTTP/1.1\" 200 -\n",
      "127.0.0.1 - - [16/Mar/2023 13:43:30] \"POST /_dash-update-component HTTP/1.1\" 200 -\n"
     ]
    },
    {
     "name": "stderr",
     "output_type": "stream",
     "text": [
      "127.0.0.1 - - [16/Mar/2023 13:43:32] \"POST /_dash-update-component HTTP/1.1\" 200 -\n",
      "127.0.0.1 - - [16/Mar/2023 13:43:34] \"POST /_dash-update-component HTTP/1.1\" 200 -\n",
      "127.0.0.1 - - [16/Mar/2023 13:43:36] \"POST /_dash-update-component HTTP/1.1\" 200 -\n",
      "127.0.0.1 - - [16/Mar/2023 13:43:38] \"POST /_dash-update-component HTTP/1.1\" 200 -\n",
      "127.0.0.1 - - [16/Mar/2023 13:43:48] \"POST /_dash-update-component HTTP/1.1\" 200 -\n",
      "127.0.0.1 - - [16/Mar/2023 13:43:54] \"POST /_dash-update-component HTTP/1.1\" 200 -\n",
      "127.0.0.1 - - [16/Mar/2023 13:43:57] \"POST /_dash-update-component HTTP/1.1\" 200 -\n",
      "127.0.0.1 - - [16/Mar/2023 13:43:59] \"POST /_dash-update-component HTTP/1.1\" 200 -\n",
      "127.0.0.1 - - [16/Mar/2023 13:47:36] \"POST /_dash-update-component HTTP/1.1\" 200 -\n"
     ]
    }
   ],
   "source": [
    "if __name__ == '__main__':\n",
    "    app.run_server()"
   ]
  },
  {
   "cell_type": "markdown",
   "id": "262c1b70",
   "metadata": {},
   "source": [
    "1- It's easy to see using the pie chart, that KSC LC39-A has the most succesfull launches.\n",
    "Being responsible by 41.7% of all successful launches."
   ]
  },
  {
   "cell_type": "markdown",
   "id": "ec5b5ba8",
   "metadata": {},
   "source": [
    "2- Again, with the individual pie charts, it's easy to see that CCAFS-SLC 40 has the highest success rate with 42.9%"
   ]
  },
  {
   "cell_type": "markdown",
   "id": "23334ff2",
   "metadata": {},
   "source": [
    "3- The 3000 to 4000kg Payload Mass range is the one with highest success rate with 70%."
   ]
  },
  {
   "cell_type": "markdown",
   "id": "e8055595",
   "metadata": {},
   "source": [
    "4- There has been only one successful launch with payload mass above 5500kg. There has been 5 failed and 0 successful launches with the payload mass in the range of 5500 to 9000kg, making it the range with the lowest success rate of 0%."
   ]
  },
  {
   "cell_type": "markdown",
   "id": "cd393da1",
   "metadata": {},
   "source": [
    "5- The FT Booster Version has the highest success rate, of 65%. Completing 13 successful launches out of 20."
   ]
  },
  {
   "cell_type": "code",
   "execution_count": null,
   "id": "1107667c",
   "metadata": {},
   "outputs": [],
   "source": []
  }
 ],
 "metadata": {
  "kernelspec": {
   "display_name": "Python 3 (ipykernel)",
   "language": "python",
   "name": "python3"
  },
  "language_info": {
   "codemirror_mode": {
    "name": "ipython",
    "version": 3
   },
   "file_extension": ".py",
   "mimetype": "text/x-python",
   "name": "python",
   "nbconvert_exporter": "python",
   "pygments_lexer": "ipython3",
   "version": "3.9.13"
  }
 },
 "nbformat": 4,
 "nbformat_minor": 5
}

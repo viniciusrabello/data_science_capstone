{
 "cells": [
  {
   "cell_type": "code",
   "execution_count": 38,
   "id": "6c80c4ef",
   "metadata": {},
   "outputs": [],
   "source": [
    "from sqlalchemy import create_engine\n",
    "import pandas as pd"
   ]
  },
  {
   "cell_type": "code",
   "execution_count": 39,
   "id": "b0173b1e",
   "metadata": {},
   "outputs": [],
   "source": [
    "engine = create_engine('sqlite:///C:/Users/vinic/OneDrive/Área de Trabalho/spacex.db', echo=False)"
   ]
  },
  {
   "cell_type": "code",
   "execution_count": 40,
   "id": "48fa09c7",
   "metadata": {},
   "outputs": [
    {
     "data": {
      "text/plain": [
       "Engine(sqlite:///C:/Users/vinic/OneDrive/Área de Trabalho/spacex.db)"
      ]
     },
     "execution_count": 40,
     "metadata": {},
     "output_type": "execute_result"
    }
   ],
   "source": [
    "engine"
   ]
  },
  {
   "cell_type": "code",
   "execution_count": 52,
   "id": "74b05804",
   "metadata": {},
   "outputs": [],
   "source": [
    "df=pd.read_csv('Spacex.csv')"
   ]
  },
  {
   "cell_type": "code",
   "execution_count": 53,
   "id": "74230b40",
   "metadata": {},
   "outputs": [],
   "source": [
    "df.columns=['Date','Time','BoosterVersion','LaunchSite','Payload',\n",
    "            'PayloadMassKg','Orbit','Customer','MissionOutcome','LandingOutcome']"
   ]
  },
  {
   "cell_type": "code",
   "execution_count": 54,
   "id": "ea2c58fc",
   "metadata": {},
   "outputs": [
    {
     "data": {
      "text/plain": [
       "Success                             98\n",
       "Failure (in flight)                  1\n",
       "Success (payload status unclear)     1\n",
       "Success                              1\n",
       "Name: Mission_Outcome, dtype: int64"
      ]
     },
     "execution_count": 54,
     "metadata": {},
     "output_type": "execute_result"
    }
   ],
   "source": [
    "df['Mission_Outcome'].value_counts()"
   ]
  },
  {
   "cell_type": "code",
   "execution_count": 55,
   "id": "c0b41f94",
   "metadata": {},
   "outputs": [],
   "source": [
    "i=df.loc[df['MissionOutcome']=='Success (payload status unclear)'].index[0]\n",
    "j=df.loc[df['MissionOutcome']=='Success '].index[0]\n",
    "df.loc[[i,j],'MissionOutcome']='Success'"
   ]
  },
  {
   "cell_type": "code",
   "execution_count": 56,
   "id": "c0a78674",
   "metadata": {},
   "outputs": [
    {
     "data": {
      "text/plain": [
       "Success                100\n",
       "Failure (in flight)      1\n",
       "Name: Mission_Outcome, dtype: int64"
      ]
     },
     "execution_count": 56,
     "metadata": {},
     "output_type": "execute_result"
    }
   ],
   "source": [
    "df['MissionOutcome'].value_counts()"
   ]
  },
  {
   "cell_type": "code",
   "execution_count": 72,
   "id": "a83ed262",
   "metadata": {},
   "outputs": [],
   "source": [
    "df['Date']=df['Date'].apply(lambda date: '-'.join(date.split('-')[::-1]))"
   ]
  },
  {
   "cell_type": "code",
   "execution_count": 24,
   "id": "847a95a8",
   "metadata": {},
   "outputs": [
    {
     "data": {
      "text/plain": [
       "101"
      ]
     },
     "execution_count": 24,
     "metadata": {},
     "output_type": "execute_result"
    }
   ],
   "source": [
    "df.to_sql('spacex_table', con=engine, if_exists='replace', index=False)"
   ]
  }
 ],
 "metadata": {
  "kernelspec": {
   "display_name": "Python 3 (ipykernel)",
   "language": "python",
   "name": "python3"
  },
  "language_info": {
   "codemirror_mode": {
    "name": "ipython",
    "version": 3
   },
   "file_extension": ".py",
   "mimetype": "text/x-python",
   "name": "python",
   "nbconvert_exporter": "python",
   "pygments_lexer": "ipython3",
   "version": "3.9.13"
  }
 },
 "nbformat": 4,
 "nbformat_minor": 5
}
